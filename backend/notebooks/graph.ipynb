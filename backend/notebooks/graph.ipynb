{
 "cells": [
  {
   "cell_type": "code",
   "execution_count": null,
   "id": "5c6debd9",
   "metadata": {},
   "outputs": [],
   "source": [
    "from typing import Literal, Optional\n",
    "from langgraph.graph import StateGraph, MessagesState, START, END\n",
    "from IPython.display import Image, display\n",
    "from langchain_openai import ChatOpenAI\n",
    "from langchain_core.messages import HumanMessage, SystemMessage\n",
    "from langgraph.checkpoint.memory import MemorySaver\n",
    "from pprint import pprint\n",
    "\n",
    "# --- Model Definition ---\n",
    "# OpenAI API key configured in .env file\n",
    "model = ChatOpenAI(model=\"gpt-4o-mini\")\n",
    "\n",
    "\n",
    "# --- Graph State Definition ---\n",
    "class DraftReviewState(MessagesState):\n",
    "    human_request: str\n",
    "    human_comment: Optional[str]\n",
    "    status: Literal[\"approved\", \"feedback\"]\n",
    "    assistant_response: str\n",
    "\n",
    "\n",
    "# --- Graph Nodes Definition ---\n",
    "def assistant_draft(state: DraftReviewState) -> DraftReviewState:\n",
    "    user_message = HumanMessage(content=state[\"human_request\"])\n",
    "    status = state.get(\"status\", \"approved\")\n",
    "\n",
    "    if (status == \"feedback\" and state.get(\"human_comment\")):\n",
    "        human_comment = HumanMessage(content=state[\"human_comment\"])\n",
    "\n",
    "        system_message = SystemMessage(content=(f\"\"\"\n",
    "        You are an AI assistant revising your previous draft. Carefully review the human's \n",
    "        feedback and update your reply accordingly. Address all comments, corrections, \n",
    "        or suggestions provided by the human. Ensure your revised response fully \n",
    "        integrates the feedback, improves clarity, and resolves any issues raised.\n",
    "        \"\"\"))\n",
    "\n",
    "        messages = [user_message] + state[\"messages\"] + [system_message, human_comment]\n",
    "        all_messages = state[\"messages\"] + [human_comment]\n",
    "\n",
    "    else:\n",
    "        system_message = SystemMessage(content=(\"\"\"\n",
    "        You are an AI assistant. Your goal is to fully understand and fulfill the user's \n",
    "        request by preparing a relevant, clear, and helpful draft reply. Focus on addressing \n",
    "        the user's needs directly and comprehensively. \n",
    "        Do not reference any previous human feedback at this stage.\n",
    "        \"\"\"))\n",
    "        messages = [system_message, user_message]\n",
    "        all_messages = state[\"messages\"]\n",
    "    \n",
    "    response = model.invoke(messages)\n",
    "\n",
    "    all_messages = all_messages + [response]\n",
    "\n",
    "    return {\n",
    "        **state,\n",
    "        \"messages\": all_messages,\n",
    "        \"assistant_response\": response.content\n",
    "    }\n",
    "\n",
    "\n",
    "def human_feedback(state: DraftReviewState):\n",
    "    pass\n",
    "\n",
    "\n",
    "def assistant_finalize(state: DraftReviewState) -> DraftReviewState:\n",
    "    system_message = \"\"\"\n",
    "    You are an AI assistant. The user has approved your draft. Carefully \n",
    "    review your reply and make any final improvements to clarity, tone, and \n",
    "    completeness. Ensure the response is polished, professional, and ready \n",
    "    to be delivered as the final answer.\n",
    "    \"\"\"\n",
    "    messages = [system_message] + state[\"messages\"]\n",
    "    response = model.invoke(messages)\n",
    "\n",
    "    all_messages = state['messages'] + [response]\n",
    "\n",
    "    return {\n",
    "        **state,\n",
    "        \"messages\": all_messages,\n",
    "        \"assistant_response\": response.content\n",
    "    }\n",
    "    \n",
    "\n",
    "# --- Router Function ---\n",
    "def feedback_router(state: DraftReviewState) -> str:\n",
    "    if state['status'] == 'approved':\n",
    "        return 'assistant_finalize'\n",
    "    else:\n",
    "        return 'assistant_draft'\n",
    "\n",
    "# --- Graph Construction ---\n",
    "builder = StateGraph(DraftReviewState)\n",
    "\n",
    "# builder.add_node('start', start_node)\n",
    "builder.add_node('assistant_draft', assistant_draft)\n",
    "builder.add_node('human_feedback', human_feedback)\n",
    "builder.add_node('assistant_finalize', assistant_finalize)\n",
    "\n",
    "builder.add_edge(START, 'assistant_draft')\n",
    "builder.add_edge('assistant_draft', 'human_feedback')\n",
    "builder.add_conditional_edges('human_feedback', feedback_router, {'assistant_finalize': 'assistant_finalize', 'assistant_draft': 'assistant_draft'})\n",
    "builder.add_edge('assistant_finalize', END)\n",
    "\n",
    "memory = MemorySaver()\n",
    "graph = builder.compile(interrupt_before=[\"human_feedback\"], checkpointer=memory)\n",
    "display(Image(graph.get_graph().draw_mermaid_png()))"
   ]
  },
  {
   "cell_type": "code",
   "execution_count": null,
   "id": "4141779a",
   "metadata": {},
   "outputs": [],
   "source": [
    "config = {\"configurable\": {\"thread_id\": \"1\"}}\n",
    "\n",
    "result = graph.invoke({\"human_request\": \"Explain what is HITL\"}, config)\n",
    "result"
   ]
  },
  {
   "cell_type": "code",
   "execution_count": null,
   "id": "ffc9cc4e",
   "metadata": {},
   "outputs": [],
   "source": [
    "state = graph.get_state(config)\n",
    "pprint(state)"
   ]
  },
  {
   "cell_type": "code",
   "execution_count": null,
   "id": "32f193f1",
   "metadata": {},
   "outputs": [],
   "source": [
    "graph.update_state(config, {\n",
    "    \"status\": \"feedback\",\n",
    "    \"human_comment\": \"Make your answer only one sentence short!\"\n",
    "})"
   ]
  },
  {
   "cell_type": "code",
   "execution_count": null,
   "id": "96240714",
   "metadata": {},
   "outputs": [],
   "source": [
    "resumed_result = graph.invoke(None, config)\n",
    "resumed_result"
   ]
  },
  {
   "cell_type": "code",
   "execution_count": null,
   "id": "c4cc945d",
   "metadata": {},
   "outputs": [],
   "source": [
    "graph.update_state(config, {\n",
    "    \"status\": \"approved\"\n",
    "})"
   ]
  },
  {
   "cell_type": "code",
   "execution_count": null,
   "id": "7dc4044c",
   "metadata": {},
   "outputs": [],
   "source": [
    "resumed_result = graph.invoke(None, config)\n",
    "resumed_result"
   ]
  },
  {
   "cell_type": "code",
   "execution_count": null,
   "id": "bc275892",
   "metadata": {},
   "outputs": [],
   "source": [
    "state = graph.get_state(config)\n",
    "pprint(state)"
   ]
  }
 ],
 "metadata": {
  "kernelspec": {
   "display_name": ".venv",
   "language": "python",
   "name": "python3"
  },
  "language_info": {
   "codemirror_mode": {
    "name": "ipython",
    "version": 3
   },
   "file_extension": ".py",
   "mimetype": "text/x-python",
   "name": "python",
   "nbconvert_exporter": "python",
   "pygments_lexer": "ipython3",
   "version": "3.11.11"
  }
 },
 "nbformat": 4,
 "nbformat_minor": 5
}
